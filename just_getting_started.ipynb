{
 "cells": [
  {
   "cell_type": "code",
   "execution_count": 1,
   "metadata": {},
   "outputs": [],
   "source": [
    "import torch\n",
    "import torchvision"
   ]
  },
  {
   "cell_type": "code",
   "execution_count": 2,
   "metadata": {},
   "outputs": [
    {
     "name": "stdout",
     "output_type": "stream",
     "text": [
      "tensor([10.,  3.])\n"
     ]
    }
   ],
   "source": [
    "x = torch.Tensor([5,3])\n",
    "y = torch.Tensor([2,1])\n",
    "print(x*y)"
   ]
  },
  {
   "cell_type": "code",
   "execution_count": 3,
   "metadata": {},
   "outputs": [
    {
     "name": "stdout",
     "output_type": "stream",
     "text": [
      "tensor([[0., 0., 0., 0., 0.],\n",
      "        [0., 0., 0., 0., 0.]])\n",
      "tensor([[0.5839, 0.1253, 0.5851, 0.1895, 0.0693],\n",
      "        [0.9456, 0.9204, 0.2998, 0.8230, 0.8547]])\n",
      "torch.Size([2, 5])\n"
     ]
    }
   ],
   "source": [
    "x= torch.zeros([2,5])\n",
    "print (x)\n",
    "y = torch.rand([2,5])\n",
    "print(y)\n",
    "print(y.shape)"
   ]
  },
  {
   "cell_type": "markdown",
   "metadata": {},
   "source": [
    "* Tensor is basically a multidimensional array.\n",
    "* Torch is pretty similar to numpy when it come to manipulating multidimensional arrays/matrices. \n",
    "* Torch treats a model as a class.\n",
    "* One of the interesting things where most people get stuck is how to resize the tensor.\n",
    "* We use the resize() function in numpy and tensorflow to resize the multidimensional array.\n",
    "* This is not the case in pytorch\n"
   ]
  },
  {
   "cell_type": "code",
   "execution_count": 4,
   "metadata": {},
   "outputs": [
    {
     "name": "stdout",
     "output_type": "stream",
     "text": [
      "tensor([[0.9763, 0.9395, 0.3090, 0.5681, 0.6180],\n",
      "        [0.6318, 0.4340, 0.4061, 0.1712, 0.1654]]) torch.Size([2, 5])\n",
      "\n",
      " tensor([[0.9763, 0.9395, 0.3090, 0.5681, 0.6180, 0.6318, 0.4340, 0.4061, 0.1712,\n",
      "         0.1654]]) torch.Size([1, 10])\n"
     ]
    }
   ],
   "source": [
    "y= torch.rand([2,5])\n",
    "# in order to change the shape of the tensor\n",
    "print(y, y.shape)\n",
    "new_y = y.view([1,10])\n",
    "print (\"\\n\",new_y, new_y.shape)"
   ]
  },
  {
   "cell_type": "code",
   "execution_count": 5,
   "metadata": {},
   "outputs": [],
   "source": [
    "# performing data analysis on the mnist dataset\n",
    "from torchvision import transforms, datasets\n",
    "''' essential that we feed the neural network with out of sample data because if by chance your model overfits then it will cause a high variance problem and lead to inaccuracy''' \n",
    "#train = datasets.MNIST(\"\",train=True,download = True,transform=transforms.Compose([transforms.ToTensor()]))\n",
    "#test =  datasets.MNIST(\"\",train=False, download = True,transform=transforms.Compose([transforms.ToTensor()])) \n",
    "train = datasets.MNIST(\"\",train=True, transform=transforms.Compose([transforms.ToTensor()]))\n",
    "test =  datasets.MNIST(\"\",train=False, transform=transforms.Compose([transforms.ToTensor()])) "
   ]
  },
  {
   "cell_type": "code",
   "execution_count": 6,
   "metadata": {},
   "outputs": [
    {
     "data": {
      "text/plain": [
       "Dataset MNIST\n",
       "    Number of datapoints: 60000\n",
       "    Root location: \n",
       "    Split: Train\n",
       "    StandardTransform\n",
       "Transform: Compose(\n",
       "               ToTensor()\n",
       "           )"
      ]
     },
     "execution_count": 6,
     "metadata": {},
     "output_type": "execute_result"
    }
   ],
   "source": [
    "train"
   ]
  },
  {
   "cell_type": "code",
   "execution_count": 7,
   "metadata": {},
   "outputs": [
    {
     "data": {
      "text/plain": [
       "Dataset MNIST\n",
       "    Number of datapoints: 10000\n",
       "    Root location: \n",
       "    Split: Test\n",
       "    StandardTransform\n",
       "Transform: Compose(\n",
       "               ToTensor()\n",
       "           )"
      ]
     },
     "execution_count": 7,
     "metadata": {},
     "output_type": "execute_result"
    }
   ],
   "source": [
    "test"
   ]
  },
  {
   "cell_type": "markdown",
   "metadata": {},
   "source": [
    "* batchsize is how much samples we want to pass to our model at one time\n",
    "* we cannot pass the whole data to our model in one go \n",
    "* we eventually hope that our data will generslize and we can get important insights from it \n",
    "* the data is passed through multiple hidden layers the neuron a mini function who's coefficient has to be learned along the way gets updated. \n",
    "* mnist 28*28 pixel size "
   ]
  },
  {
   "cell_type": "code",
   "execution_count": 8,
   "metadata": {},
   "outputs": [],
   "source": [
    "trainset = torch.utils.data.DataLoader(train, batch_size=10, shuffle=True)\n",
    "testset = torch.utils.data.DataLoader(test , batch_size=10, shuffle=True)"
   ]
  },
  {
   "cell_type": "code",
   "execution_count": 9,
   "metadata": {},
   "outputs": [],
   "source": [
    "for data in trainset:\n",
    "    k= data\n",
    "    break"
   ]
  },
  {
   "cell_type": "markdown",
   "metadata": {},
   "source": [
    "# Pytorch\n",
    "### This is where people get confused. First we can flatten or reshape our tensor using the view() function unlike the reshape function which is present in tensorflow and numpy \n",
    "### When we load our dataset trainset and divide it into different bathes of size 10 (so that model does not generalize in one step and we optimize it by decreasing the variance by training the model in multiple steps) we are essentially storing the pixel data in the first position and the image labels in the second position.\n",
    "\n",
    "* When we are loading the dataset we have need to take care of the array dimension while loading the dataset the dimension looks like this (batch_size ,1, input_x_dim , input_y_dim ) \n"
   ]
  },
  {
   "cell_type": "code",
   "execution_count": 10,
   "metadata": {},
   "outputs": [
    {
     "data": {
      "text/plain": [
       "torch.Size([10, 1, 28, 28])"
      ]
     },
     "execution_count": 10,
     "metadata": {},
     "output_type": "execute_result"
    }
   ],
   "source": [
    "# image pixel data is stored in the zeroith position \n",
    "k[0].shape"
   ]
  },
  {
   "cell_type": "code",
   "execution_count": 11,
   "metadata": {},
   "outputs": [
    {
     "data": {
      "text/plain": [
       "torch.Size([10])"
      ]
     },
     "execution_count": 11,
     "metadata": {},
     "output_type": "execute_result"
    }
   ],
   "source": [
    "# image label data is stored in the first postiion \n",
    "k[1].shape"
   ]
  },
  {
   "cell_type": "code",
   "execution_count": 12,
   "metadata": {},
   "outputs": [
    {
     "name": "stdout",
     "output_type": "stream",
     "text": [
      "torch.Size([1, 28, 28]) tensor(3)\n"
     ]
    }
   ],
   "source": [
    "x, y = data[0][0] , data[1][0]\n",
    "print(x.shape,y)"
   ]
  },
  {
   "cell_type": "code",
   "execution_count": 13,
   "metadata": {},
   "outputs": [
    {
     "data": {
      "text/plain": [
       "<matplotlib.image.AxesImage at 0x7fbf70b69f70>"
      ]
     },
     "execution_count": 13,
     "metadata": {},
     "output_type": "execute_result"
    },
    {
     "data": {
      "image/png": "[encoded data removed]",
      "text/plain": [
       "<Figure size 432x288 with 1 Axes>"
      ]
     },
     "metadata": {
      "needs_background": "light"
     },
     "output_type": "display_data"
    }
   ],
   "source": [
    "import matplotlib.pyplot as plt \n",
    "# while viewing the image it has to be reshaped\n",
    "plt.imshow(x.view((28,28)))\n"
   ]
  },
  {
   "cell_type": "markdown",
   "metadata": {},
   "source": [
    "# Data-set Balancing and Exploratory Data Analysis...\n",
    "\n",
    "### If the model can find a shorter path to figuring out some- decreasing loss ( the model has no clue/knowledge of what the lowest loss could be, so as the optimizer is trying to decrease our loss it doesn't know how good the model might get it will just try to decrease the loss as best and easy  as possible."
   ]
  },
  {
   "cell_type": "code",
   "execution_count": 14,
   "metadata": {},
   "outputs": [],
   "source": [
    "total =0 \n",
    "counter =0\n",
    "batch_size = 10 \n",
    "counter_dict =dict()\n",
    "for data in trainset:\n",
    "    xs, ys = data\n",
    "    for y in ys:\n",
    "        if int(y) not in counter_dict:\n",
    "            counter_dict[int(y)]=1\n",
    "        else:\n",
    "            counter_dict[int(y)]+=1"
   ]
  },
  {
   "cell_type": "code",
   "execution_count": 15,
   "metadata": {},
   "outputs": [
    {
     "data": {
      "text/plain": [
       "{1: 6742,\n",
       " 8: 5851,\n",
       " 4: 5842,\n",
       " 0: 5923,\n",
       " 5: 5421,\n",
       " 3: 6131,\n",
       " 9: 5949,\n",
       " 6: 5918,\n",
       " 2: 5958,\n",
       " 7: 6265}"
      ]
     },
     "execution_count": 15,
     "metadata": {},
     "output_type": "execute_result"
    }
   ],
   "source": [
    "counter_dict"
   ]
  },
  {
   "cell_type": "code",
   "execution_count": 16,
   "metadata": {},
   "outputs": [],
   "source": [
    "counter_dict  = dict(sorted(counter_dict.items()))"
   ]
  },
  {
   "cell_type": "code",
   "execution_count": 17,
   "metadata": {},
   "outputs": [
    {
     "data": {
      "text/plain": [
       "{0: 5923,\n",
       " 1: 6742,\n",
       " 2: 5958,\n",
       " 3: 6131,\n",
       " 4: 5842,\n",
       " 5: 5421,\n",
       " 6: 5918,\n",
       " 7: 6265,\n",
       " 8: 5851,\n",
       " 9: 5949}"
      ]
     },
     "execution_count": 17,
     "metadata": {},
     "output_type": "execute_result"
    }
   ],
   "source": [
    "# Dictionary after sorting, we can infer the data is fairly balance we are not dealing with a imbalanced dataset\n",
    "counter_dict"
   ]
  },
  {
   "cell_type": "code",
   "execution_count": 18,
   "metadata": {},
   "outputs": [
    {
     "name": "stdout",
     "output_type": "stream",
     "text": [
      "0 : 9.871666666666666\n",
      "1 : 11.236666666666666\n",
      "2 : 9.93\n",
      "3 : 10.218333333333334\n",
      "4 : 9.736666666666666\n",
      "5 : 9.035\n",
      "6 : 9.863333333333333\n",
      "7 : 10.441666666666666\n",
      "8 : 9.751666666666667\n",
      "9 : 9.915\n"
     ]
    }
   ],
   "source": [
    "# percentage distribution\n",
    "for k in counter_dict:    \n",
    "    print(\"{} : {}\".format(k, 100* counter_dict[k]/sum(counter_dict.values())))"
   ]
  },
  {
   "cell_type": "markdown",
   "metadata": {},
   "source": [
    "### torch.nn is more of your object-oriented programming \n",
    "### torch.nn.functional is more of just like functions\n"
   ]
  },
  {
   "cell_type": "code",
   "execution_count": 19,
   "metadata": {},
   "outputs": [],
   "source": [
    "import torch.nn as nn \n",
    "import torch.nn.functional as f \n"
   ]
  },
  {
   "cell_type": "code",
   "execution_count": 20,
   "metadata": {},
   "outputs": [],
   "source": [
    "for data in trainset:\n",
    "    k= data\n",
    "    break \n"
   ]
  },
  {
   "cell_type": "code",
   "execution_count": 21,
   "metadata": {},
   "outputs": [
    {
     "data": {
      "text/plain": [
       "torch.Size([10, 1, 28, 28])"
      ]
     },
     "execution_count": 21,
     "metadata": {},
     "output_type": "execute_result"
    }
   ],
   "source": [
    "k[0].shape"
   ]
  },
  {
   "cell_type": "code",
   "execution_count": 22,
   "metadata": {},
   "outputs": [
    {
     "data": {
      "text/plain": [
       "torch.Size([28, 28])"
      ]
     },
     "execution_count": 22,
     "metadata": {},
     "output_type": "execute_result"
    }
   ],
   "source": [
    "k[0][0][0].shape\n",
    "# this represents the image width and height "
   ]
  },
  {
   "cell_type": "code",
   "execution_count": 23,
   "metadata": {},
   "outputs": [
    {
     "name": "stdout",
     "output_type": "stream",
     "text": [
      "28 column size \n"
     ]
    }
   ],
   "source": [
    "# essentially we are finding how many columns exist in that particular row \n",
    "# from this we get the number of columns\n",
    "no_of_columns =  (k[0][0][0][0].shape)[0]\n",
    "print(\"{} column size \".format(no_of_columns))"
   ]
  },
  {
   "cell_type": "code",
   "execution_count": 24,
   "metadata": {},
   "outputs": [
    {
     "name": "stdout",
     "output_type": "stream",
     "text": [
      "28 row size \n"
     ]
    }
   ],
   "source": [
    "# we are taking the first column fixing the rows as it is \n",
    "# from this we get the number of rows in our input image\n",
    "no_of_rows =(k[0][0][0][:][0].shape)[0]\n",
    "print(\"{} row size \".format(no_of_rows))"
   ]
  },
  {
   "cell_type": "code",
   "execution_count": 25,
   "metadata": {},
   "outputs": [
    {
     "name": "stdout",
     "output_type": "stream",
     "text": [
      "we have 28 rows and 28 columns in our input image\n"
     ]
    }
   ],
   "source": [
    "print(\"we have {} rows and {} columns in our input image\".format(no_of_rows, no_of_columns)) \n"
   ]
  },
  {
   "cell_type": "code",
   "execution_count": 33,
   "metadata": {},
   "outputs": [
    {
     "name": "stdout",
     "output_type": "stream",
     "text": [
      "Net(\n",
      "  (fc1): Linear(in_features=784, out_features=64, bias=True)\n",
      "  (fc2): Linear(in_features=64, out_features=64, bias=True)\n",
      "  (fc3): Linear(in_features=64, out_features=64, bias=True)\n",
      "  (fc4): Linear(in_features=64, out_features=10, bias=True)\n",
      ")\n"
     ]
    }
   ],
   "source": [
    "class Net(nn.Module):\n",
    "    def __init__(self):\n",
    "        # we will be initializing nn.Module\n",
    "        # super corresponds to nn.Module and all this is doing is running the initialization for nn.Module as well as whatever else we happen to put in it so when you inherit \n",
    "        #we inherit the attributes and methods, but the thing is the initialization method is not run so if we want to run the initialization method of the parent class where you\n",
    "        #are inheriting from we run super().__init()\n",
    "        super().__init__()\n",
    "        # our target here is to make 3 layers of 64 neurons \n",
    "        self.fc1 = nn.Linear(28*28, 64)\n",
    "        self.fc2 = nn.Linear(64, 64)\n",
    "        self.fc3 = nn.Linear(64, 64)\n",
    "        self.fc4 = nn.Linear(64, 10)\n",
    "        \n",
    "    # how do we want the data to be passed through the network    \n",
    "    def forward(self, x):\n",
    "        x = f.relu(self.fc1(x))\n",
    "        x = f.relu(self.fc2(x))\n",
    "        x = f.relu(self.fc3(x))\n",
    "        x = (self.fc4(x))\n",
    "        return f.log_softmax(x, dim =1)\n",
    "        \n",
    "net = Net()\n",
    "print(net)\n",
    "        "
   ]
  },
  {
   "cell_type": "code",
   "execution_count": 29,
   "metadata": {},
   "outputs": [
    {
     "name": "stdout",
     "output_type": "stream",
     "text": [
      "tensor([[6.6434e-01, 3.9315e-01, 5.9357e-01, 5.2465e-01, 9.0466e-01, 1.4477e-01,\n",
      "         2.6345e-04, 8.1851e-01, 5.1584e-01, 3.0812e-01, 8.2280e-01, 4.0412e-01,\n",
      "         2.7832e-01, 8.5781e-02, 8.3084e-01, 8.8054e-01, 1.3005e-01, 8.4183e-01,\n",
      "         9.3988e-01, 5.9443e-01, 5.9447e-01, 4.1345e-01, 9.4908e-01, 8.9821e-01,\n",
      "         5.1221e-01, 1.8951e-01, 4.3788e-01, 9.9039e-01],\n",
      "        [2.4170e-01, 9.9509e-02, 3.2735e-01, 5.8523e-01, 5.7452e-01, 4.0969e-01,\n",
      "         1.8818e-01, 4.7152e-01, 4.5249e-01, 9.0625e-01, 1.9248e-01, 8.7680e-01,\n",
      "         1.0728e-01, 8.9536e-01, 2.3268e-01, 9.3541e-01, 1.3964e-01, 2.1629e-01,\n",
      "         9.2844e-02, 2.7483e-01, 7.0906e-01, 8.3801e-01, 1.7777e-01, 6.3821e-01,\n",
      "         4.2462e-01, 2.4545e-01, 2.7352e-01, 2.2570e-01],\n",
      "        [4.7464e-01, 9.4392e-01, 1.9781e-01, 2.8121e-01, 1.5899e-01, 4.1462e-01,\n",
      "         9.4971e-01, 3.8725e-01, 6.0880e-01, 4.7611e-02, 3.1511e-01, 7.3059e-01,\n",
      "         3.5898e-01, 5.4743e-01, 8.4320e-01, 5.6258e-01, 3.9977e-01, 3.1211e-01,\n",
      "         1.1258e-01, 9.1658e-01, 7.3501e-01, 2.2734e-02, 1.3489e-01, 3.9995e-01,\n",
      "         7.6257e-01, 5.2013e-01, 3.9793e-01, 2.8780e-01],\n",
      "        [2.4543e-01, 1.5553e-01, 9.2732e-01, 6.7751e-01, 9.9814e-01, 9.8519e-02,\n",
      "         3.2368e-01, 1.8946e-01, 4.8317e-01, 9.8537e-02, 7.1076e-01, 1.1126e-01,\n",
      "         2.7202e-01, 1.6939e-01, 3.1795e-01, 2.1668e-01, 5.2333e-02, 8.5917e-01,\n",
      "         2.1690e-01, 9.1186e-02, 6.2352e-01, 1.0343e-01, 7.6656e-01, 9.5501e-01,\n",
      "         3.1918e-01, 7.6815e-01, 1.6908e-01, 5.3124e-01],\n",
      "        [9.5813e-01, 2.9080e-01, 2.0548e-01, 9.1985e-01, 2.3620e-01, 1.9668e-01,\n",
      "         6.1585e-01, 6.3483e-02, 5.7842e-01, 5.0996e-02, 1.5240e-01, 9.3751e-01,\n",
      "         2.1712e-01, 4.8156e-01, 5.9690e-01, 6.0734e-01, 4.9153e-01, 1.3566e-01,\n",
      "         5.1002e-01, 1.1782e-01, 7.5397e-01, 3.3667e-01, 1.3450e-02, 3.7935e-01,\n",
      "         6.5924e-01, 1.8527e-01, 6.4293e-01, 2.2953e-01],\n",
      "        [5.3086e-01, 2.5077e-01, 4.5938e-01, 3.8150e-01, 7.4070e-02, 6.0756e-01,\n",
      "         5.6389e-01, 6.6662e-01, 7.4143e-01, 2.5033e-01, 8.5176e-01, 7.7250e-01,\n",
      "         1.1104e-01, 5.5158e-01, 4.1939e-01, 8.9263e-01, 3.4591e-02, 1.6557e-01,\n",
      "         8.9318e-02, 8.5755e-01, 1.4108e-01, 9.8192e-01, 1.2531e-01, 3.2235e-01,\n",
      "         8.9662e-01, 2.6304e-03, 8.5527e-01, 6.1903e-01],\n",
      "        [8.4647e-01, 1.5958e-01, 3.2120e-01, 6.4828e-01, 7.4679e-01, 1.6948e-01,\n",
      "         9.4366e-01, 8.0213e-01, 3.3666e-01, 3.2394e-01, 4.8821e-01, 6.2582e-01,\n",
      "         1.8241e-01, 8.1651e-01, 2.0496e-01, 5.6126e-01, 3.0565e-01, 2.4932e-01,\n",
      "         7.9257e-01, 7.6011e-01, 3.4828e-01, 1.6454e-01, 1.2718e-01, 8.6731e-01,\n",
      "         1.0913e-01, 5.7787e-01, 5.0228e-01, 6.8707e-01],\n",
      "        [1.2275e-01, 9.0765e-01, 1.2886e-01, 4.1943e-01, 6.6502e-01, 4.0277e-01,\n",
      "         8.1006e-01, 1.7117e-02, 4.9153e-01, 8.9332e-02, 9.7111e-01, 8.9481e-01,\n",
      "         3.9012e-01, 1.0212e-01, 8.7054e-01, 7.0417e-01, 6.6978e-01, 4.0532e-01,\n",
      "         9.6004e-01, 8.2553e-02, 3.4924e-01, 7.0937e-02, 1.9283e-01, 8.4203e-01,\n",
      "         3.7451e-01, 2.2114e-01, 4.4345e-01, 2.4741e-01],\n",
      "        [7.1321e-02, 3.5460e-01, 5.0186e-01, 8.8067e-02, 8.8079e-01, 4.0772e-01,\n",
      "         2.4456e-01, 3.6395e-01, 2.0058e-01, 2.0182e-03, 7.4556e-01, 2.4170e-01,\n",
      "         3.6107e-01, 1.9738e-01, 1.8740e-01, 8.7448e-01, 9.2114e-01, 7.9384e-01,\n",
      "         1.4894e-01, 8.3623e-01, 4.0102e-01, 7.8205e-01, 6.3659e-01, 8.1240e-01,\n",
      "         4.6217e-01, 1.4009e-01, 8.5966e-01, 7.6643e-01],\n",
      "        [8.2101e-01, 8.5046e-01, 1.9570e-01, 7.6542e-01, 5.9682e-02, 3.7801e-01,\n",
      "         6.0845e-01, 7.3702e-01, 6.6809e-02, 1.2012e-01, 1.8740e-01, 2.7558e-01,\n",
      "         8.4564e-02, 2.0605e-01, 3.9404e-01, 1.3837e-01, 3.7599e-01, 4.8676e-01,\n",
      "         9.1633e-02, 8.4410e-01, 6.2708e-01, 3.3271e-01, 1.6223e-01, 7.0487e-01,\n",
      "         7.2386e-01, 7.2294e-01, 6.0876e-01, 6.9661e-02],\n",
      "        [6.4898e-02, 6.9575e-01, 3.0112e-01, 8.4349e-01, 6.0822e-01, 2.9607e-01,\n",
      "         9.9036e-01, 5.4499e-01, 7.1586e-01, 7.9396e-01, 6.3661e-02, 6.7662e-01,\n",
      "         3.9054e-01, 9.5041e-01, 6.2031e-01, 2.7695e-01, 8.6862e-01, 3.3180e-01,\n",
      "         5.3787e-01, 7.4244e-01, 2.9026e-01, 7.0836e-01, 9.2209e-01, 9.9032e-01,\n",
      "         2.6701e-01, 1.3757e-02, 5.9269e-01, 1.7374e-01],\n",
      "        [3.1933e-02, 8.0526e-01, 7.1779e-01, 2.9277e-01, 7.6739e-01, 1.1004e-01,\n",
      "         9.0173e-01, 3.4890e-01, 7.9797e-01, 4.1810e-01, 4.9077e-01, 6.9224e-01,\n",
      "         4.2283e-01, 1.5784e-01, 2.0738e-01, 6.4978e-01, 3.0750e-01, 5.7512e-01,\n",
      "         4.5219e-01, 4.3327e-01, 2.6731e-02, 6.1216e-01, 3.9740e-01, 4.6402e-01,\n",
      "         7.3910e-01, 1.1891e-01, 2.2666e-01, 8.7542e-01],\n",
      "        [6.6772e-02, 7.6833e-01, 9.6472e-01, 9.2850e-01, 2.4757e-01, 8.4019e-01,\n",
      "         8.6797e-01, 7.8845e-01, 6.5393e-01, 1.9148e-01, 3.9937e-01, 6.5775e-01,\n",
      "         2.5671e-01, 7.6215e-01, 2.3314e-01, 4.0563e-01, 6.2532e-01, 2.3054e-01,\n",
      "         1.6801e-01, 2.7376e-02, 5.5054e-02, 1.7777e-01, 4.4896e-01, 3.1364e-02,\n",
      "         4.6174e-01, 9.9639e-01, 7.7360e-01, 9.1812e-01],\n",
      "        [8.8420e-01, 7.0418e-01, 3.3012e-01, 5.5608e-01, 5.7961e-01, 1.5328e-02,\n",
      "         3.4582e-01, 7.2016e-01, 3.2636e-01, 1.8560e-01, 1.6563e-01, 6.7119e-01,\n",
      "         1.2806e-01, 2.0603e-01, 5.5996e-01, 6.6742e-01, 1.3568e-01, 6.7900e-01,\n",
      "         5.4133e-01, 6.5336e-01, 1.6181e-01, 8.0817e-01, 4.5611e-01, 3.8205e-01,\n",
      "         6.4020e-01, 6.1272e-01, 4.1152e-01, 1.8112e-01],\n",
      "        [3.7687e-01, 4.1231e-01, 2.8602e-01, 7.2802e-01, 4.6746e-01, 6.6549e-01,\n",
      "         9.0886e-01, 6.4131e-01, 7.2710e-01, 7.6430e-01, 1.5270e-01, 5.1623e-01,\n",
      "         5.2908e-01, 9.6549e-01, 9.1833e-01, 1.9287e-01, 6.9101e-01, 8.6393e-01,\n",
      "         8.1597e-01, 1.9192e-01, 5.9903e-01, 4.3300e-01, 6.7534e-01, 2.2701e-01,\n",
      "         8.8412e-01, 6.4077e-01, 9.7221e-01, 6.3632e-01],\n",
      "        [6.0482e-01, 9.3079e-01, 5.8647e-01, 7.2825e-01, 2.1685e-01, 1.4661e-01,\n",
      "         3.1448e-02, 1.9208e-01, 1.8185e-01, 6.0980e-01, 2.7859e-01, 4.5997e-01,\n",
      "         4.7706e-01, 8.3403e-01, 5.6298e-01, 9.5627e-01, 4.0090e-01, 6.4068e-01,\n",
      "         8.3998e-01, 7.3629e-01, 5.3103e-01, 7.9838e-02, 6.2689e-01, 8.5466e-01,\n",
      "         3.9151e-01, 2.5543e-01, 8.6300e-01, 2.0176e-01],\n",
      "        [2.3576e-01, 4.4814e-01, 9.5256e-01, 6.9975e-01, 1.4505e-01, 7.6614e-01,\n",
      "         4.3526e-02, 1.5187e-01, 7.6637e-01, 6.8496e-01, 4.0717e-01, 9.7666e-01,\n",
      "         4.8647e-01, 6.9820e-01, 6.5113e-01, 8.2317e-01, 1.0232e-02, 3.3965e-01,\n",
      "         7.6031e-01, 9.1611e-01, 5.7982e-01, 1.2774e-01, 5.4405e-02, 5.9430e-01,\n",
      "         1.8982e-01, 6.1231e-02, 4.9961e-02, 2.4583e-01],\n",
      "        [8.8223e-01, 3.8230e-01, 7.6572e-01, 2.0165e-01, 1.7067e-01, 9.8983e-01,\n",
      "         3.3325e-01, 7.8869e-01, 9.8867e-01, 7.9021e-01, 9.6761e-01, 7.5927e-01,\n",
      "         5.2790e-01, 2.8740e-01, 7.9865e-01, 8.0250e-02, 8.9612e-01, 6.0222e-01,\n",
      "         6.5660e-01, 1.4725e-02, 2.0220e-01, 4.0121e-01, 6.1391e-01, 4.9989e-01,\n",
      "         7.1964e-01, 5.0955e-01, 7.7667e-01, 8.2316e-01],\n",
      "        [4.1516e-01, 2.9787e-01, 7.0848e-01, 9.4233e-01, 6.6006e-01, 5.0156e-01,\n",
      "         9.8620e-01, 5.3130e-01, 5.9881e-01, 5.5469e-01, 1.3894e-01, 9.6035e-01,\n",
      "         8.6422e-01, 6.0623e-01, 6.7025e-01, 1.4692e-01, 1.2239e-01, 1.8521e-01,\n",
      "         1.0364e-01, 7.5208e-01, 8.3474e-02, 4.2558e-01, 4.4615e-01, 2.9330e-03,\n",
      "         4.4385e-01, 4.0708e-01, 4.7841e-01, 2.0742e-01],\n",
      "        [2.4707e-01, 5.2586e-01, 8.0748e-01, 9.6396e-01, 8.1119e-02, 8.6608e-01,\n",
      "         9.1202e-02, 5.1773e-01, 7.4973e-01, 1.6634e-01, 1.3993e-01, 3.7843e-01,\n",
      "         8.2770e-01, 8.0582e-01, 8.3350e-01, 2.0789e-01, 4.0196e-01, 6.8876e-01,\n",
      "         5.8208e-01, 2.1596e-02, 8.0998e-01, 8.9344e-01, 9.1361e-01, 8.0862e-01,\n",
      "         4.4009e-02, 1.8546e-01, 2.1310e-01, 6.9324e-01],\n",
      "        [9.3389e-01, 3.1841e-01, 4.8529e-01, 4.1653e-01, 8.3994e-02, 4.6721e-01,\n",
      "         8.6944e-01, 3.2600e-01, 9.8322e-01, 6.9571e-01, 5.1599e-01, 4.1601e-02,\n",
      "         2.7761e-01, 1.3686e-02, 6.7687e-01, 3.5236e-01, 9.7402e-01, 5.5608e-01,\n",
      "         4.4093e-02, 4.6539e-01, 4.7948e-02, 7.6008e-01, 6.8102e-01, 8.1215e-01,\n",
      "         6.1972e-01, 2.9680e-01, 3.3516e-01, 9.5222e-02],\n",
      "        [3.1421e-01, 1.8914e-01, 5.6915e-01, 6.8757e-01, 3.4178e-01, 4.1213e-01,\n",
      "         8.3676e-01, 9.5918e-01, 6.5461e-01, 9.5025e-02, 5.7743e-01, 7.2373e-02,\n",
      "         7.3216e-01, 4.5525e-01, 9.3323e-01, 8.6461e-01, 7.0906e-01, 3.2906e-02,\n",
      "         7.8356e-01, 8.0065e-01, 9.5659e-01, 6.1136e-01, 9.6443e-01, 5.0472e-01,\n",
      "         7.4115e-01, 3.4085e-01, 3.3005e-01, 2.7965e-01],\n",
      "        [9.9728e-01, 8.2935e-02, 4.2549e-01, 6.0744e-02, 2.3698e-01, 5.8575e-01,\n",
      "         1.9318e-01, 4.1644e-01, 2.1175e-01, 1.2259e-01, 9.4090e-01, 6.1290e-01,\n",
      "         3.0593e-01, 5.3802e-01, 1.8585e-01, 2.1210e-01, 1.1099e-01, 1.5910e-02,\n",
      "         2.0004e-01, 9.6642e-01, 1.7068e-01, 9.2059e-01, 2.8972e-01, 3.4743e-01,\n",
      "         5.7411e-01, 9.9232e-02, 9.7576e-01, 2.4528e-02],\n",
      "        [4.4492e-01, 3.8199e-01, 7.5679e-01, 4.6557e-01, 1.6733e-01, 7.6097e-01,\n",
      "         4.1501e-02, 4.6343e-01, 5.4428e-01, 3.2352e-01, 4.6636e-01, 8.7474e-01,\n",
      "         3.9516e-01, 7.0640e-01, 2.9749e-02, 1.0549e-01, 9.0141e-01, 4.0797e-01,\n",
      "         2.2969e-01, 6.1908e-01, 6.7013e-01, 1.8603e-01, 8.2084e-01, 4.2077e-01,\n",
      "         7.7770e-01, 8.1023e-01, 3.3491e-01, 2.7864e-01],\n",
      "        [7.8155e-01, 5.4958e-01, 5.6137e-01, 4.7765e-01, 6.1631e-01, 4.9967e-02,\n",
      "         3.7790e-01, 6.3306e-01, 2.9452e-01, 8.6764e-01, 9.8772e-01, 9.9916e-01,\n",
      "         4.5165e-01, 2.7203e-01, 5.0735e-01, 3.8481e-01, 3.0170e-01, 4.4145e-01,\n",
      "         7.9047e-02, 9.7878e-01, 9.0435e-01, 2.6966e-01, 7.4743e-01, 3.1358e-01,\n",
      "         7.8969e-01, 3.5433e-01, 3.4847e-03, 4.5921e-01],\n",
      "        [9.4731e-01, 9.7151e-01, 1.3735e-01, 2.0823e-01, 7.4850e-01, 6.8364e-01,\n",
      "         8.3034e-02, 3.2672e-01, 8.9842e-01, 6.1914e-01, 8.5086e-03, 7.2268e-01,\n",
      "         4.1398e-03, 9.3103e-01, 4.2042e-01, 7.7020e-01, 6.2535e-01, 5.9720e-01,\n",
      "         8.7969e-01, 2.4705e-02, 5.0300e-01, 8.7808e-01, 7.0572e-01, 3.7686e-01,\n",
      "         7.0843e-01, 4.7653e-01, 1.8168e-01, 1.7444e-01],\n",
      "        [1.6747e-02, 9.5087e-01, 2.6770e-01, 3.9422e-01, 5.1131e-01, 4.2770e-01,\n",
      "         2.2588e-01, 9.3222e-01, 7.7644e-01, 8.5950e-01, 7.4272e-01, 2.9138e-01,\n",
      "         8.0863e-01, 3.2014e-01, 6.7796e-01, 8.6624e-01, 4.7472e-01, 2.5740e-01,\n",
      "         5.5867e-02, 1.1724e-02, 9.3481e-01, 2.2173e-01, 3.4263e-01, 2.9109e-01,\n",
      "         6.2514e-01, 5.0475e-01, 8.7991e-01, 4.7237e-01],\n",
      "        [7.5431e-01, 6.6657e-01, 3.3752e-01, 9.6099e-01, 9.4042e-01, 5.9031e-01,\n",
      "         1.9129e-02, 2.7259e-01, 4.1409e-01, 6.1567e-02, 7.1272e-01, 7.9235e-01,\n",
      "         6.5402e-01, 1.7490e-01, 5.8365e-02, 7.9941e-01, 1.2684e-01, 7.6446e-01,\n",
      "         3.7351e-01, 1.6638e-02, 7.9905e-01, 6.1487e-01, 4.3107e-03, 2.9192e-01,\n",
      "         2.5712e-01, 9.8034e-01, 2.4954e-01, 2.6197e-01]])\n"
     ]
    }
   ],
   "source": [
    "x= torch.rand((28,28))\n",
    "print(x)"
   ]
  },
  {
   "cell_type": "code",
   "execution_count": 30,
   "metadata": {},
   "outputs": [
    {
     "name": "stdout",
     "output_type": "stream",
     "text": [
      "tensor([[6.6434e-01, 3.9315e-01, 5.9357e-01, 5.2465e-01, 9.0466e-01, 1.4477e-01,\n",
      "         2.6345e-04, 8.1851e-01, 5.1584e-01, 3.0812e-01, 8.2280e-01, 4.0412e-01,\n",
      "         2.7832e-01, 8.5781e-02, 8.3084e-01, 8.8054e-01, 1.3005e-01, 8.4183e-01,\n",
      "         9.3988e-01, 5.9443e-01, 5.9447e-01, 4.1345e-01, 9.4908e-01, 8.9821e-01,\n",
      "         5.1221e-01, 1.8951e-01, 4.3788e-01, 9.9039e-01, 2.4170e-01, 9.9509e-02,\n",
      "         3.2735e-01, 5.8523e-01, 5.7452e-01, 4.0969e-01, 1.8818e-01, 4.7152e-01,\n",
      "         4.5249e-01, 9.0625e-01, 1.9248e-01, 8.7680e-01, 1.0728e-01, 8.9536e-01,\n",
      "         2.3268e-01, 9.3541e-01, 1.3964e-01, 2.1629e-01, 9.2844e-02, 2.7483e-01,\n",
      "         7.0906e-01, 8.3801e-01, 1.7777e-01, 6.3821e-01, 4.2462e-01, 2.4545e-01,\n",
      "         2.7352e-01, 2.2570e-01, 4.7464e-01, 9.4392e-01, 1.9781e-01, 2.8121e-01,\n",
      "         1.5899e-01, 4.1462e-01, 9.4971e-01, 3.8725e-01, 6.0880e-01, 4.7611e-02,\n",
      "         3.1511e-01, 7.3059e-01, 3.5898e-01, 5.4743e-01, 8.4320e-01, 5.6258e-01,\n",
      "         3.9977e-01, 3.1211e-01, 1.1258e-01, 9.1658e-01, 7.3501e-01, 2.2734e-02,\n",
      "         1.3489e-01, 3.9995e-01, 7.6257e-01, 5.2013e-01, 3.9793e-01, 2.8780e-01,\n",
      "         2.4543e-01, 1.5553e-01, 9.2732e-01, 6.7751e-01, 9.9814e-01, 9.8519e-02,\n",
      "         3.2368e-01, 1.8946e-01, 4.8317e-01, 9.8537e-02, 7.1076e-01, 1.1126e-01,\n",
      "         2.7202e-01, 1.6939e-01, 3.1795e-01, 2.1668e-01, 5.2333e-02, 8.5917e-01,\n",
      "         2.1690e-01, 9.1186e-02, 6.2352e-01, 1.0343e-01, 7.6656e-01, 9.5501e-01,\n",
      "         3.1918e-01, 7.6815e-01, 1.6908e-01, 5.3124e-01, 9.5813e-01, 2.9080e-01,\n",
      "         2.0548e-01, 9.1985e-01, 2.3620e-01, 1.9668e-01, 6.1585e-01, 6.3483e-02,\n",
      "         5.7842e-01, 5.0996e-02, 1.5240e-01, 9.3751e-01, 2.1712e-01, 4.8156e-01,\n",
      "         5.9690e-01, 6.0734e-01, 4.9153e-01, 1.3566e-01, 5.1002e-01, 1.1782e-01,\n",
      "         7.5397e-01, 3.3667e-01, 1.3450e-02, 3.7935e-01, 6.5924e-01, 1.8527e-01,\n",
      "         6.4293e-01, 2.2953e-01, 5.3086e-01, 2.5077e-01, 4.5938e-01, 3.8150e-01,\n",
      "         7.4070e-02, 6.0756e-01, 5.6389e-01, 6.6662e-01, 7.4143e-01, 2.5033e-01,\n",
      "         8.5176e-01, 7.7250e-01, 1.1104e-01, 5.5158e-01, 4.1939e-01, 8.9263e-01,\n",
      "         3.4591e-02, 1.6557e-01, 8.9318e-02, 8.5755e-01, 1.4108e-01, 9.8192e-01,\n",
      "         1.2531e-01, 3.2235e-01, 8.9662e-01, 2.6304e-03, 8.5527e-01, 6.1903e-01,\n",
      "         8.4647e-01, 1.5958e-01, 3.2120e-01, 6.4828e-01, 7.4679e-01, 1.6948e-01,\n",
      "         9.4366e-01, 8.0213e-01, 3.3666e-01, 3.2394e-01, 4.8821e-01, 6.2582e-01,\n",
      "         1.8241e-01, 8.1651e-01, 2.0496e-01, 5.6126e-01, 3.0565e-01, 2.4932e-01,\n",
      "         7.9257e-01, 7.6011e-01, 3.4828e-01, 1.6454e-01, 1.2718e-01, 8.6731e-01,\n",
      "         1.0913e-01, 5.7787e-01, 5.0228e-01, 6.8707e-01, 1.2275e-01, 9.0765e-01,\n",
      "         1.2886e-01, 4.1943e-01, 6.6502e-01, 4.0277e-01, 8.1006e-01, 1.7117e-02,\n",
      "         4.9153e-01, 8.9332e-02, 9.7111e-01, 8.9481e-01, 3.9012e-01, 1.0212e-01,\n",
      "         8.7054e-01, 7.0417e-01, 6.6978e-01, 4.0532e-01, 9.6004e-01, 8.2553e-02,\n",
      "         3.4924e-01, 7.0937e-02, 1.9283e-01, 8.4203e-01, 3.7451e-01, 2.2114e-01,\n",
      "         4.4345e-01, 2.4741e-01, 7.1321e-02, 3.5460e-01, 5.0186e-01, 8.8067e-02,\n",
      "         8.8079e-01, 4.0772e-01, 2.4456e-01, 3.6395e-01, 2.0058e-01, 2.0182e-03,\n",
      "         7.4556e-01, 2.4170e-01, 3.6107e-01, 1.9738e-01, 1.8740e-01, 8.7448e-01,\n",
      "         9.2114e-01, 7.9384e-01, 1.4894e-01, 8.3623e-01, 4.0102e-01, 7.8205e-01,\n",
      "         6.3659e-01, 8.1240e-01, 4.6217e-01, 1.4009e-01, 8.5966e-01, 7.6643e-01,\n",
      "         8.2101e-01, 8.5046e-01, 1.9570e-01, 7.6542e-01, 5.9682e-02, 3.7801e-01,\n",
      "         6.0845e-01, 7.3702e-01, 6.6809e-02, 1.2012e-01, 1.8740e-01, 2.7558e-01,\n",
      "         8.4564e-02, 2.0605e-01, 3.9404e-01, 1.3837e-01, 3.7599e-01, 4.8676e-01,\n",
      "         9.1633e-02, 8.4410e-01, 6.2708e-01, 3.3271e-01, 1.6223e-01, 7.0487e-01,\n",
      "         7.2386e-01, 7.2294e-01, 6.0876e-01, 6.9661e-02, 6.4898e-02, 6.9575e-01,\n",
      "         3.0112e-01, 8.4349e-01, 6.0822e-01, 2.9607e-01, 9.9036e-01, 5.4499e-01,\n",
      "         7.1586e-01, 7.9396e-01, 6.3661e-02, 6.7662e-01, 3.9054e-01, 9.5041e-01,\n",
      "         6.2031e-01, 2.7695e-01, 8.6862e-01, 3.3180e-01, 5.3787e-01, 7.4244e-01,\n",
      "         2.9026e-01, 7.0836e-01, 9.2209e-01, 9.9032e-01, 2.6701e-01, 1.3757e-02,\n",
      "         5.9269e-01, 1.7374e-01, 3.1933e-02, 8.0526e-01, 7.1779e-01, 2.9277e-01,\n",
      "         7.6739e-01, 1.1004e-01, 9.0173e-01, 3.4890e-01, 7.9797e-01, 4.1810e-01,\n",
      "         4.9077e-01, 6.9224e-01, 4.2283e-01, 1.5784e-01, 2.0738e-01, 6.4978e-01,\n",
      "         3.0750e-01, 5.7512e-01, 4.5219e-01, 4.3327e-01, 2.6731e-02, 6.1216e-01,\n",
      "         3.9740e-01, 4.6402e-01, 7.3910e-01, 1.1891e-01, 2.2666e-01, 8.7542e-01,\n",
      "         6.6772e-02, 7.6833e-01, 9.6472e-01, 9.2850e-01, 2.4757e-01, 8.4019e-01,\n",
      "         8.6797e-01, 7.8845e-01, 6.5393e-01, 1.9148e-01, 3.9937e-01, 6.5775e-01,\n",
      "         2.5671e-01, 7.6215e-01, 2.3314e-01, 4.0563e-01, 6.2532e-01, 2.3054e-01,\n",
      "         1.6801e-01, 2.7376e-02, 5.5054e-02, 1.7777e-01, 4.4896e-01, 3.1364e-02,\n",
      "         4.6174e-01, 9.9639e-01, 7.7360e-01, 9.1812e-01, 8.8420e-01, 7.0418e-01,\n",
      "         3.3012e-01, 5.5608e-01, 5.7961e-01, 1.5328e-02, 3.4582e-01, 7.2016e-01,\n",
      "         3.2636e-01, 1.8560e-01, 1.6563e-01, 6.7119e-01, 1.2806e-01, 2.0603e-01,\n",
      "         5.5996e-01, 6.6742e-01, 1.3568e-01, 6.7900e-01, 5.4133e-01, 6.5336e-01,\n",
      "         1.6181e-01, 8.0817e-01, 4.5611e-01, 3.8205e-01, 6.4020e-01, 6.1272e-01,\n",
      "         4.1152e-01, 1.8112e-01, 3.7687e-01, 4.1231e-01, 2.8602e-01, 7.2802e-01,\n",
      "         4.6746e-01, 6.6549e-01, 9.0886e-01, 6.4131e-01, 7.2710e-01, 7.6430e-01,\n",
      "         1.5270e-01, 5.1623e-01, 5.2908e-01, 9.6549e-01, 9.1833e-01, 1.9287e-01,\n",
      "         6.9101e-01, 8.6393e-01, 8.1597e-01, 1.9192e-01, 5.9903e-01, 4.3300e-01,\n",
      "         6.7534e-01, 2.2701e-01, 8.8412e-01, 6.4077e-01, 9.7221e-01, 6.3632e-01,\n",
      "         6.0482e-01, 9.3079e-01, 5.8647e-01, 7.2825e-01, 2.1685e-01, 1.4661e-01,\n",
      "         3.1448e-02, 1.9208e-01, 1.8185e-01, 6.0980e-01, 2.7859e-01, 4.5997e-01,\n",
      "         4.7706e-01, 8.3403e-01, 5.6298e-01, 9.5627e-01, 4.0090e-01, 6.4068e-01,\n",
      "         8.3998e-01, 7.3629e-01, 5.3103e-01, 7.9838e-02, 6.2689e-01, 8.5466e-01,\n",
      "         3.9151e-01, 2.5543e-01, 8.6300e-01, 2.0176e-01, 2.3576e-01, 4.4814e-01,\n",
      "         9.5256e-01, 6.9975e-01, 1.4505e-01, 7.6614e-01, 4.3526e-02, 1.5187e-01,\n",
      "         7.6637e-01, 6.8496e-01, 4.0717e-01, 9.7666e-01, 4.8647e-01, 6.9820e-01,\n",
      "         6.5113e-01, 8.2317e-01, 1.0232e-02, 3.3965e-01, 7.6031e-01, 9.1611e-01,\n",
      "         5.7982e-01, 1.2774e-01, 5.4405e-02, 5.9430e-01, 1.8982e-01, 6.1231e-02,\n",
      "         4.9961e-02, 2.4583e-01, 8.8223e-01, 3.8230e-01, 7.6572e-01, 2.0165e-01,\n",
      "         1.7067e-01, 9.8983e-01, 3.3325e-01, 7.8869e-01, 9.8867e-01, 7.9021e-01,\n",
      "         9.6761e-01, 7.5927e-01, 5.2790e-01, 2.8740e-01, 7.9865e-01, 8.0250e-02,\n",
      "         8.9612e-01, 6.0222e-01, 6.5660e-01, 1.4725e-02, 2.0220e-01, 4.0121e-01,\n",
      "         6.1391e-01, 4.9989e-01, 7.1964e-01, 5.0955e-01, 7.7667e-01, 8.2316e-01,\n",
      "         4.1516e-01, 2.9787e-01, 7.0848e-01, 9.4233e-01, 6.6006e-01, 5.0156e-01,\n",
      "         9.8620e-01, 5.3130e-01, 5.9881e-01, 5.5469e-01, 1.3894e-01, 9.6035e-01,\n",
      "         8.6422e-01, 6.0623e-01, 6.7025e-01, 1.4692e-01, 1.2239e-01, 1.8521e-01,\n",
      "         1.0364e-01, 7.5208e-01, 8.3474e-02, 4.2558e-01, 4.4615e-01, 2.9330e-03,\n",
      "         4.4385e-01, 4.0708e-01, 4.7841e-01, 2.0742e-01, 2.4707e-01, 5.2586e-01,\n",
      "         8.0748e-01, 9.6396e-01, 8.1119e-02, 8.6608e-01, 9.1202e-02, 5.1773e-01,\n",
      "         7.4973e-01, 1.6634e-01, 1.3993e-01, 3.7843e-01, 8.2770e-01, 8.0582e-01,\n",
      "         8.3350e-01, 2.0789e-01, 4.0196e-01, 6.8876e-01, 5.8208e-01, 2.1596e-02,\n",
      "         8.0998e-01, 8.9344e-01, 9.1361e-01, 8.0862e-01, 4.4009e-02, 1.8546e-01,\n",
      "         2.1310e-01, 6.9324e-01, 9.3389e-01, 3.1841e-01, 4.8529e-01, 4.1653e-01,\n",
      "         8.3994e-02, 4.6721e-01, 8.6944e-01, 3.2600e-01, 9.8322e-01, 6.9571e-01,\n",
      "         5.1599e-01, 4.1601e-02, 2.7761e-01, 1.3686e-02, 6.7687e-01, 3.5236e-01,\n",
      "         9.7402e-01, 5.5608e-01, 4.4093e-02, 4.6539e-01, 4.7948e-02, 7.6008e-01,\n",
      "         6.8102e-01, 8.1215e-01, 6.1972e-01, 2.9680e-01, 3.3516e-01, 9.5222e-02,\n",
      "         3.1421e-01, 1.8914e-01, 5.6915e-01, 6.8757e-01, 3.4178e-01, 4.1213e-01,\n",
      "         8.3676e-01, 9.5918e-01, 6.5461e-01, 9.5025e-02, 5.7743e-01, 7.2373e-02,\n",
      "         7.3216e-01, 4.5525e-01, 9.3323e-01, 8.6461e-01, 7.0906e-01, 3.2906e-02,\n",
      "         7.8356e-01, 8.0065e-01, 9.5659e-01, 6.1136e-01, 9.6443e-01, 5.0472e-01,\n",
      "         7.4115e-01, 3.4085e-01, 3.3005e-01, 2.7965e-01, 9.9728e-01, 8.2935e-02,\n",
      "         4.2549e-01, 6.0744e-02, 2.3698e-01, 5.8575e-01, 1.9318e-01, 4.1644e-01,\n",
      "         2.1175e-01, 1.2259e-01, 9.4090e-01, 6.1290e-01, 3.0593e-01, 5.3802e-01,\n",
      "         1.8585e-01, 2.1210e-01, 1.1099e-01, 1.5910e-02, 2.0004e-01, 9.6642e-01,\n",
      "         1.7068e-01, 9.2059e-01, 2.8972e-01, 3.4743e-01, 5.7411e-01, 9.9232e-02,\n",
      "         9.7576e-01, 2.4528e-02, 4.4492e-01, 3.8199e-01, 7.5679e-01, 4.6557e-01,\n",
      "         1.6733e-01, 7.6097e-01, 4.1501e-02, 4.6343e-01, 5.4428e-01, 3.2352e-01,\n",
      "         4.6636e-01, 8.7474e-01, 3.9516e-01, 7.0640e-01, 2.9749e-02, 1.0549e-01,\n",
      "         9.0141e-01, 4.0797e-01, 2.2969e-01, 6.1908e-01, 6.7013e-01, 1.8603e-01,\n",
      "         8.2084e-01, 4.2077e-01, 7.7770e-01, 8.1023e-01, 3.3491e-01, 2.7864e-01,\n",
      "         7.8155e-01, 5.4958e-01, 5.6137e-01, 4.7765e-01, 6.1631e-01, 4.9967e-02,\n",
      "         3.7790e-01, 6.3306e-01, 2.9452e-01, 8.6764e-01, 9.8772e-01, 9.9916e-01,\n",
      "         4.5165e-01, 2.7203e-01, 5.0735e-01, 3.8481e-01, 3.0170e-01, 4.4145e-01,\n",
      "         7.9047e-02, 9.7878e-01, 9.0435e-01, 2.6966e-01, 7.4743e-01, 3.1358e-01,\n",
      "         7.8969e-01, 3.5433e-01, 3.4847e-03, 4.5921e-01, 9.4731e-01, 9.7151e-01,\n",
      "         1.3735e-01, 2.0823e-01, 7.4850e-01, 6.8364e-01, 8.3034e-02, 3.2672e-01,\n",
      "         8.9842e-01, 6.1914e-01, 8.5086e-03, 7.2268e-01, 4.1398e-03, 9.3103e-01,\n",
      "         4.2042e-01, 7.7020e-01, 6.2535e-01, 5.9720e-01, 8.7969e-01, 2.4705e-02,\n",
      "         5.0300e-01, 8.7808e-01, 7.0572e-01, 3.7686e-01, 7.0843e-01, 4.7653e-01,\n",
      "         1.8168e-01, 1.7444e-01, 1.6747e-02, 9.5087e-01, 2.6770e-01, 3.9422e-01,\n",
      "         5.1131e-01, 4.2770e-01, 2.2588e-01, 9.3222e-01, 7.7644e-01, 8.5950e-01,\n",
      "         7.4272e-01, 2.9138e-01, 8.0863e-01, 3.2014e-01, 6.7796e-01, 8.6624e-01,\n",
      "         4.7472e-01, 2.5740e-01, 5.5867e-02, 1.1724e-02, 9.3481e-01, 2.2173e-01,\n",
      "         3.4263e-01, 2.9109e-01, 6.2514e-01, 5.0475e-01, 8.7991e-01, 4.7237e-01,\n",
      "         7.5431e-01, 6.6657e-01, 3.3752e-01, 9.6099e-01, 9.4042e-01, 5.9031e-01,\n",
      "         1.9129e-02, 2.7259e-01, 4.1409e-01, 6.1567e-02, 7.1272e-01, 7.9235e-01,\n",
      "         6.5402e-01, 1.7490e-01, 5.8365e-02, 7.9941e-01, 1.2684e-01, 7.6446e-01,\n",
      "         3.7351e-01, 1.6638e-02, 7.9905e-01, 6.1487e-01, 4.3107e-03, 2.9192e-01,\n",
      "         2.5712e-01, 9.8034e-01, 2.4954e-01, 2.6197e-01]])\n"
     ]
    }
   ],
   "source": [
    "x =x.view(1,28*28)\n",
    "print(x)"
   ]
  },
  {
   "cell_type": "code",
   "execution_count": 31,
   "metadata": {},
   "outputs": [
    {
     "data": {
      "text/plain": [
       "torch.Size([1, 784])"
      ]
     },
     "execution_count": 31,
     "metadata": {},
     "output_type": "execute_result"
    }
   ],
   "source": [
    "x.shape"
   ]
  },
  {
   "cell_type": "code",
   "execution_count": 34,
   "metadata": {},
   "outputs": [],
   "source": [
    "output = net(x)"
   ]
  },
  {
   "cell_type": "code",
   "execution_count": 37,
   "metadata": {},
   "outputs": [
    {
     "data": {
      "text/plain": [
       "tensor([[-2.3138, -2.3170, -2.3429, -2.2312, -2.3625, -2.2599, -2.2296, -2.3649,\n",
       "         -2.1807, -2.4526]], grad_fn=<LogSoftmaxBackward>)"
      ]
     },
     "execution_count": 37,
     "metadata": {},
     "output_type": "execute_result"
    }
   ],
   "source": [
    "output"
   ]
  },
  {
   "cell_type": "markdown",
   "metadata": {},
   "source": [
    "## Before moving ahead we need to take into consideration is the loss and optimizer function. Loss function tells how much off your model is from the actual prediction. Optimizer adjusts the weights of the neurons based on the loss and gradients, it wants to adjust and optimize all of the possible weights that it can adjust in such a way to lower the loss slowly over time based on the learning rate we have used. \n",
    "\n",
    "` Optimizers: Adam optimizer` \n",
    "  Adam will be taking in two parameters one is the net.parameter this corresponds to everything that is adjustable in our model, there are things that don't necessarily have to be adjustable. \n",
    " This is true in the case of transfer learning examples where we have have a model pre-trained already on a specific domain and has learned the initial layers of the model has learnt all the low level features of the images such as edges, contrast etc. So the initial layers will be very good at smal and general types of image recognition task, and the laters layers will be learning closed domain specification/features. In transfer learning we freeze the initial layers create the bottleneck structure and the optimizer optimizes the weights only in the last few layers. \n",
    " \n",
    " ` Learning Rate `\n",
    "  Learning rate dictates the size of the step that your optimizer to get to the minima. So anytime you pass data through this normal neural network you get a loss, it is entirely possible to calculate what loss do we need for loss to be zero, to get perfect accuracy on the data we just sent, that is a simple mathematical operation. We need to determine the weights for our loss to be zero, to get perfect accuracy on the data we just sent. This is a simple mathematical operation which we don't want to perform as it would certainly lead to overfitting the model to our data points, a classical problem of the bias-variance problem which plagues every machine learning algorithm. So we use the optimizer to optimize, lower the loss but only take some certain size steps and then over time as we take those steps and the changes that were made basically based on,these steps will get overwritten as we are passing our data in batches. We need to optimize out learning rate because if we take a higher learning rate/step the model will never converge. If we take smaller steps it will never reach the global minima. \n",
    "  \n",
    "  ## But there is really no way to say that the model will reach the global minima( basically the perfect size step to reach the global minima) \n",
    "  ` so what we do in more generally more complicated tasks is we do what's called a decaying learning rate and the way this works is it starts off with these gigantic steps but over time the learning rate decreases `\n",
    "  "
   ]
  },
  {
   "cell_type": "code",
   "execution_count": 40,
   "metadata": {},
   "outputs": [
    {
     "name": "stdout",
     "output_type": "stream",
     "text": [
      "tensor(0.0232, grad_fn=<NllLossBackward>)\n",
      "tensor(0.0784, grad_fn=<NllLossBackward>)\n",
      "tensor(0.1949, grad_fn=<NllLossBackward>)\n"
     ]
    }
   ],
   "source": [
    "import torch.optim as optim \n",
    " \n",
    "optimizer = optim.Adam(net.parameters(), lr = 0.001) # 1e-03 \n",
    "\n",
    "EPOCHS = 3 \n",
    "\n",
    "for epochs in range(EPOCHS):\n",
    "    for data in trainset:\n",
    "        # data is a batch of featuresets and labels \n",
    "        x, y = data \n",
    "        net.zero_grad()\n",
    "        output = net(x.view(-1,28*28))\n",
    "        loss = f.nll_loss(output, y)\n",
    "        # backpropogating the weights to each neuron adjusting the weights relative to how much each neuron contributed to the loss\n",
    "        loss.backward()\n",
    "        # this will adjust the weights for us \n",
    "        optimizer.step()\n",
    "    print(loss)\n",
    "        \n",
    "\n"
   ]
  },
  {
   "cell_type": "markdown",
   "metadata": {},
   "source": [
    "` We need to take extra precautions when we are deciding what loss function we have to use in our neural netowork. There are two major ways to calculate loss in a model `\n",
    "* One is based on ONE HOT ENCODING (one hot vectors)\n",
    "* The other is the normal probability distribution(pdf) vector like in this case. \n",
    "\n",
    "Our goal mostly is to use one hot encoded vectors. \n",
    "\n",
    "` If our input labels are one hot encoded it is safer to say that we should be using MSE loss (generally)`\n",
    "\n",
    "#### So it is safe to say that if your data is a scalar value like tensor(4) and not tensor( [ 0  0  0  1  0  0  0  0  0  0 ] ) just use NLL loss but if your data is a one hot vector use MSE.\n",
    "\n"
   ]
  },
  {
   "cell_type": "code",
   "execution_count": null,
   "metadata": {},
   "outputs": [],
   "source": []
  }
 ],
 "metadata": {
  "kernelspec": {
   "display_name": "cpytorch",
   "language": "python",
   "name": "cpytorch"
  },
  "language_info": {
   "codemirror_mode": {
    "name": "ipython",
    "version": 3
   },
   "file_extension": ".py",
   "mimetype": "text/x-python",
   "name": "python",
   "nbconvert_exporter": "python",
   "pygments_lexer": "ipython3",
   "version": "3.8.3"
  },
  "varInspector": {
   "cols": {
    "lenName": 16,
    "lenType": 16,
    "lenVar": 40
   },
   "kernels_config": {
    "python": {
     "delete_cmd_postfix": "",
     "delete_cmd_prefix": "del ",
     "library": "var_list.py",
     "varRefreshCmd": "print(var_dic_list())"
    },
    "r": {
     "delete_cmd_postfix": ") ",
     "delete_cmd_prefix": "rm(",
     "library": "var_list.r",
     "varRefreshCmd": "cat(var_dic_list()) "
    }
   },
   "types_to_exclude": [
    "module",
    "function",
    "builtin_function_or_method",
    "instance",
    "_Feature"
   ],
   "window_display": true
  }
 },
 "nbformat": 4,
 "nbformat_minor": 4
}
